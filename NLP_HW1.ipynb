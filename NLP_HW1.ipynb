{
 "cells": [
  {
   "cell_type": "markdown",
   "id": "4b41f94e",
   "metadata": {},
   "source": [
    "# NLP HW1"
   ]
  },
  {
   "cell_type": "code",
   "execution_count": 1,
   "id": "a3417400",
   "metadata": {},
   "outputs": [
    {
     "name": "stdout",
     "output_type": "stream",
     "text": [
      "3.9.13 (tags/v3.9.13:6de2ca5, May 17 2022, 16:36:42) [MSC v.1929 64 bit (AMD64)]\n"
     ]
    }
   ],
   "source": [
    "import sys\n",
    "print(sys.version)"
   ]
  },
  {
   "cell_type": "markdown",
   "id": "c0fe5eb0",
   "metadata": {},
   "source": [
    "## HW1-1 移除字串中的空白鍵和定位鍵\n",
    "\n",
    "給予一字串，其中包括英文大小寫字母、定位鍵與空白鍵。英文單字是以空白鍵分隔開。請刪除所有定位鍵與空白鍵後輸出只包含大小寫字母的英文字串。\n",
    "\n",
    "input:Clothes make the man. Don't judge a book by its cover.\n",
    "\n",
    "output:Clothesmaketheman.Don'tjudgeabookbyitscover."
   ]
  },
  {
   "cell_type": "code",
   "execution_count": 2,
   "id": "a64cb572",
   "metadata": {},
   "outputs": [
    {
     "name": "stdout",
     "output_type": "stream",
     "text": [
      "Clothes make the man. Don't judge a book by its cover.\n",
      "Clothesmaketheman.Don'tjudgeabookbyitscover.\n"
     ]
    }
   ],
   "source": [
    "import re\n",
    "s = input()\n",
    "ns = re.sub(r\"\\s+\", \"\", s)\n",
    "print(ns.replace(\"\\n\", \"\"))"
   ]
  },
  {
   "cell_type": "markdown",
   "id": "875bb5e9",
   "metadata": {},
   "source": [
    "## HW1-2 英文斷詞\n",
    "\n",
    "斷詞在自然語言的研究上是個很重要的步驟，主要就是將關鍵字從句子中斷出，英文的斷詞較為簡單，就根據句子中的空格將英文字隔開。\n",
    "\n",
    "input:How do you do\n",
    "\n",
    "output:how do you"
   ]
  },
  {
   "cell_type": "code",
   "execution_count": 3,
   "id": "9454a3b0",
   "metadata": {},
   "outputs": [
    {
     "name": "stdout",
     "output_type": "stream",
     "text": [
      "How do you do\n",
      "how do you\n",
      "\n"
     ]
    }
   ],
   "source": [
    "while True:  \n",
    "    try:  \n",
    "        s = [str(j) for j in input().split()]  \n",
    "        ns = []  \n",
    "        for i in range (0,len(s)):  \n",
    "            s[i] = s[i].lower()  \n",
    "            if s[i] in ns:  \n",
    "                continue  \n",
    "            else:  \n",
    "                ns.append(s[i])  \n",
    "        for i in ns:  \n",
    "            if i ==ns[-1]:  \n",
    "                print(i,end = '\\n')  \n",
    "            else:  \n",
    "                print(i,end = ' ')  \n",
    "    except:  \n",
    "        break  "
   ]
  },
  {
   "cell_type": "markdown",
   "id": "9cc1285d",
   "metadata": {},
   "source": [
    "## HW1-3 字數統計\n",
    "\n",
    "輸入一英文字串 S ，統計 S 中各個單字的出現次數 ( 大小寫視為相同，標點符號不計 ) 。\n",
    "\n",
    "input:\"A boy picked a ball, and the ball was red.\"\n",
    "\n",
    "output:\n",
    "\n",
    "A : 2\n",
    "\n",
    "boy : 1\n",
    "\n",
    "picked : 1\n",
    "\n",
    "ball : 2\n",
    "\n",
    "and : 1\n",
    "\n",
    "the : 1\n",
    "\n",
    "was : 1\n",
    "\n",
    "red : 1"
   ]
  },
  {
   "cell_type": "code",
   "execution_count": 4,
   "id": "a96aa9af",
   "metadata": {},
   "outputs": [
    {
     "name": "stdout",
     "output_type": "stream",
     "text": [
      "A boy picked a ball, and the ball was red.\n",
      "A : 2\n",
      "boy : 1\n",
      "picked : 1\n",
      "ball : 2\n",
      "and : 1\n",
      "the : 1\n",
      "was : 1\n",
      "red : 1\n"
     ]
    }
   ],
   "source": [
    "import string\n",
    "\n",
    "s = input().strip()\n",
    "s = s.translate(str.maketrans(\"\", \"\", string.punctuation))\n",
    "words = s.split()\n",
    "\n",
    "word_count = {}\n",
    "word_bank = []\n",
    "\n",
    "for word in words:\n",
    "    low_word = word.lower()\n",
    "    if low_word in word_count:\n",
    "        word_count[low_word] += 1 \n",
    "    else:\n",
    "        word_bank.append(word)\n",
    "        word_count[low_word] = 1\n",
    "       \n",
    "for i in range(len(word_bank)):\n",
    "    print(\"{} : {}\".format(word_bank[i],word_count[word_bank[i].lower()]))\n"
   ]
  }
 ],
 "metadata": {
  "kernelspec": {
   "display_name": "Python 3 (ipykernel)",
   "language": "python",
   "name": "python3"
  },
  "language_info": {
   "codemirror_mode": {
    "name": "ipython",
    "version": 3
   },
   "file_extension": ".py",
   "mimetype": "text/x-python",
   "name": "python",
   "nbconvert_exporter": "python",
   "pygments_lexer": "ipython3",
   "version": "3.9.13"
  }
 },
 "nbformat": 4,
 "nbformat_minor": 5
}
