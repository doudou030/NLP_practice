{
  "cells": [
    {
      "cell_type": "markdown",
      "metadata": {
        "id": "gKEcnJIHEHE3"
      },
      "source": [
        "# NLP-midtern\n",
        "\n",
        "總共有30個類別，每個類別都有1500筆資料。\n",
        "每一筆資料都會提供headline跟short_description，請大家發揮想像力並結合上課所學，訓練出分類文章的模型。\n",
        "資料當中也許會有一些特殊情形，需要大家好好處理，不然後面模型的訓練成效會不太好。\n",
        "\n",
        "https://www.kaggle.com/competitions/ncnu-1112-nlp-midterm-project\n",
        "\n",
        "\n"
      ]
    },
    {
      "cell_type": "markdown",
      "metadata": {
        "id": "ma3XLqZcdRzh"
      },
      "source": [
        "# 1. 下載train和test資料"
      ]
    },
    {
      "cell_type": "code",
      "execution_count": 1,
      "metadata": {
        "colab": {
          "base_uri": "https://localhost:8080/"
        },
        "id": "pncjkW32dRzh",
        "outputId": "3be16d86-4094-4955-b9cb-ef16890c5cdf"
      },
      "outputs": [
        {
          "output_type": "stream",
          "name": "stdout",
          "text": [
            "fatal: destination path 'NLP_practice' already exists and is not an empty directory.\n"
          ]
        }
      ],
      "source": [
        "# !rm -rf NLP_practice\n",
        "!git clone https://github.com/doudou030/NLP_practice.git\n",
        "!cp NLP_practice/NLP_mid_data/train.csv train.csv\n",
        "# Public data\n",
        "!cp NLP_practice/NLP_mid_data/test.csv test.csv\n",
        "# Private data\n",
        "# !cp NLP_practice/NLP_mid_data/private_test.csv test.csv"
      ]
    },
    {
      "cell_type": "markdown",
      "metadata": {
        "id": "a2eeYTc6ETo4"
      },
      "source": [
        "# 2. 導入需要的函式庫"
      ]
    },
    {
      "cell_type": "code",
      "execution_count": 2,
      "metadata": {
        "id": "ArHKhL02EteT",
        "colab": {
          "base_uri": "https://localhost:8080/"
        },
        "outputId": "b28d3792-aa81-4b62-bfb2-c8eb85028a6c"
      },
      "outputs": [
        {
          "output_type": "stream",
          "name": "stderr",
          "text": [
            "[nltk_data] Downloading collection 'all'\n",
            "[nltk_data]    | \n",
            "[nltk_data]    | Downloading package abc to /root/nltk_data...\n",
            "[nltk_data]    |   Package abc is already up-to-date!\n",
            "[nltk_data]    | Downloading package alpino to /root/nltk_data...\n",
            "[nltk_data]    |   Package alpino is already up-to-date!\n",
            "[nltk_data]    | Downloading package averaged_perceptron_tagger to\n",
            "[nltk_data]    |     /root/nltk_data...\n",
            "[nltk_data]    |   Package averaged_perceptron_tagger is already up-\n",
            "[nltk_data]    |       to-date!\n",
            "[nltk_data]    | Downloading package averaged_perceptron_tagger_ru to\n",
            "[nltk_data]    |     /root/nltk_data...\n",
            "[nltk_data]    |   Package averaged_perceptron_tagger_ru is already\n",
            "[nltk_data]    |       up-to-date!\n",
            "[nltk_data]    | Downloading package basque_grammars to\n",
            "[nltk_data]    |     /root/nltk_data...\n",
            "[nltk_data]    |   Package basque_grammars is already up-to-date!\n",
            "[nltk_data]    | Downloading package bcp47 to /root/nltk_data...\n",
            "[nltk_data]    |   Package bcp47 is already up-to-date!\n",
            "[nltk_data]    | Downloading package biocreative_ppi to\n",
            "[nltk_data]    |     /root/nltk_data...\n",
            "[nltk_data]    |   Package biocreative_ppi is already up-to-date!\n",
            "[nltk_data]    | Downloading package bllip_wsj_no_aux to\n",
            "[nltk_data]    |     /root/nltk_data...\n",
            "[nltk_data]    |   Package bllip_wsj_no_aux is already up-to-date!\n",
            "[nltk_data]    | Downloading package book_grammars to\n",
            "[nltk_data]    |     /root/nltk_data...\n",
            "[nltk_data]    |   Package book_grammars is already up-to-date!\n",
            "[nltk_data]    | Downloading package brown to /root/nltk_data...\n",
            "[nltk_data]    |   Package brown is already up-to-date!\n",
            "[nltk_data]    | Downloading package brown_tei to /root/nltk_data...\n",
            "[nltk_data]    |   Package brown_tei is already up-to-date!\n",
            "[nltk_data]    | Downloading package cess_cat to /root/nltk_data...\n",
            "[nltk_data]    |   Package cess_cat is already up-to-date!\n",
            "[nltk_data]    | Downloading package cess_esp to /root/nltk_data...\n",
            "[nltk_data]    |   Package cess_esp is already up-to-date!\n",
            "[nltk_data]    | Downloading package chat80 to /root/nltk_data...\n",
            "[nltk_data]    |   Package chat80 is already up-to-date!\n",
            "[nltk_data]    | Downloading package city_database to\n",
            "[nltk_data]    |     /root/nltk_data...\n",
            "[nltk_data]    |   Package city_database is already up-to-date!\n",
            "[nltk_data]    | Downloading package cmudict to /root/nltk_data...\n",
            "[nltk_data]    |   Package cmudict is already up-to-date!\n",
            "[nltk_data]    | Downloading package comparative_sentences to\n",
            "[nltk_data]    |     /root/nltk_data...\n",
            "[nltk_data]    |   Package comparative_sentences is already up-to-\n",
            "[nltk_data]    |       date!\n",
            "[nltk_data]    | Downloading package comtrans to /root/nltk_data...\n",
            "[nltk_data]    |   Package comtrans is already up-to-date!\n",
            "[nltk_data]    | Downloading package conll2000 to /root/nltk_data...\n",
            "[nltk_data]    |   Package conll2000 is already up-to-date!\n",
            "[nltk_data]    | Downloading package conll2002 to /root/nltk_data...\n",
            "[nltk_data]    |   Package conll2002 is already up-to-date!\n",
            "[nltk_data]    | Downloading package conll2007 to /root/nltk_data...\n",
            "[nltk_data]    |   Package conll2007 is already up-to-date!\n",
            "[nltk_data]    | Downloading package crubadan to /root/nltk_data...\n",
            "[nltk_data]    |   Package crubadan is already up-to-date!\n",
            "[nltk_data]    | Downloading package dependency_treebank to\n",
            "[nltk_data]    |     /root/nltk_data...\n",
            "[nltk_data]    |   Package dependency_treebank is already up-to-date!\n",
            "[nltk_data]    | Downloading package dolch to /root/nltk_data...\n",
            "[nltk_data]    |   Package dolch is already up-to-date!\n",
            "[nltk_data]    | Downloading package europarl_raw to\n",
            "[nltk_data]    |     /root/nltk_data...\n",
            "[nltk_data]    |   Package europarl_raw is already up-to-date!\n",
            "[nltk_data]    | Downloading package extended_omw to\n",
            "[nltk_data]    |     /root/nltk_data...\n",
            "[nltk_data]    |   Package extended_omw is already up-to-date!\n",
            "[nltk_data]    | Downloading package floresta to /root/nltk_data...\n",
            "[nltk_data]    |   Package floresta is already up-to-date!\n",
            "[nltk_data]    | Downloading package framenet_v15 to\n",
            "[nltk_data]    |     /root/nltk_data...\n",
            "[nltk_data]    |   Package framenet_v15 is already up-to-date!\n",
            "[nltk_data]    | Downloading package framenet_v17 to\n",
            "[nltk_data]    |     /root/nltk_data...\n",
            "[nltk_data]    |   Package framenet_v17 is already up-to-date!\n",
            "[nltk_data]    | Downloading package gazetteers to /root/nltk_data...\n",
            "[nltk_data]    |   Package gazetteers is already up-to-date!\n",
            "[nltk_data]    | Downloading package genesis to /root/nltk_data...\n",
            "[nltk_data]    |   Package genesis is already up-to-date!\n",
            "[nltk_data]    | Downloading package gutenberg to /root/nltk_data...\n",
            "[nltk_data]    |   Package gutenberg is already up-to-date!\n",
            "[nltk_data]    | Downloading package ieer to /root/nltk_data...\n",
            "[nltk_data]    |   Package ieer is already up-to-date!\n",
            "[nltk_data]    | Downloading package inaugural to /root/nltk_data...\n",
            "[nltk_data]    |   Package inaugural is already up-to-date!\n",
            "[nltk_data]    | Downloading package indian to /root/nltk_data...\n",
            "[nltk_data]    |   Package indian is already up-to-date!\n",
            "[nltk_data]    | Downloading package jeita to /root/nltk_data...\n",
            "[nltk_data]    |   Package jeita is already up-to-date!\n",
            "[nltk_data]    | Downloading package kimmo to /root/nltk_data...\n",
            "[nltk_data]    |   Package kimmo is already up-to-date!\n",
            "[nltk_data]    | Downloading package knbc to /root/nltk_data...\n",
            "[nltk_data]    |   Package knbc is already up-to-date!\n",
            "[nltk_data]    | Downloading package large_grammars to\n",
            "[nltk_data]    |     /root/nltk_data...\n",
            "[nltk_data]    |   Package large_grammars is already up-to-date!\n",
            "[nltk_data]    | Downloading package lin_thesaurus to\n",
            "[nltk_data]    |     /root/nltk_data...\n",
            "[nltk_data]    |   Package lin_thesaurus is already up-to-date!\n",
            "[nltk_data]    | Downloading package mac_morpho to /root/nltk_data...\n",
            "[nltk_data]    |   Package mac_morpho is already up-to-date!\n",
            "[nltk_data]    | Downloading package machado to /root/nltk_data...\n",
            "[nltk_data]    |   Package machado is already up-to-date!\n",
            "[nltk_data]    | Downloading package masc_tagged to /root/nltk_data...\n",
            "[nltk_data]    |   Package masc_tagged is already up-to-date!\n",
            "[nltk_data]    | Downloading package maxent_ne_chunker to\n",
            "[nltk_data]    |     /root/nltk_data...\n",
            "[nltk_data]    |   Package maxent_ne_chunker is already up-to-date!\n",
            "[nltk_data]    | Downloading package maxent_treebank_pos_tagger to\n",
            "[nltk_data]    |     /root/nltk_data...\n",
            "[nltk_data]    |   Package maxent_treebank_pos_tagger is already up-\n",
            "[nltk_data]    |       to-date!\n",
            "[nltk_data]    | Downloading package moses_sample to\n",
            "[nltk_data]    |     /root/nltk_data...\n",
            "[nltk_data]    |   Package moses_sample is already up-to-date!\n",
            "[nltk_data]    | Downloading package movie_reviews to\n",
            "[nltk_data]    |     /root/nltk_data...\n",
            "[nltk_data]    |   Package movie_reviews is already up-to-date!\n",
            "[nltk_data]    | Downloading package mte_teip5 to /root/nltk_data...\n",
            "[nltk_data]    |   Package mte_teip5 is already up-to-date!\n",
            "[nltk_data]    | Downloading package mwa_ppdb to /root/nltk_data...\n",
            "[nltk_data]    |   Package mwa_ppdb is already up-to-date!\n",
            "[nltk_data]    | Downloading package names to /root/nltk_data...\n",
            "[nltk_data]    |   Package names is already up-to-date!\n",
            "[nltk_data]    | Downloading package nombank.1.0 to /root/nltk_data...\n",
            "[nltk_data]    |   Package nombank.1.0 is already up-to-date!\n",
            "[nltk_data]    | Downloading package nonbreaking_prefixes to\n",
            "[nltk_data]    |     /root/nltk_data...\n",
            "[nltk_data]    |   Package nonbreaking_prefixes is already up-to-date!\n",
            "[nltk_data]    | Downloading package nps_chat to /root/nltk_data...\n",
            "[nltk_data]    |   Package nps_chat is already up-to-date!\n",
            "[nltk_data]    | Downloading package omw to /root/nltk_data...\n",
            "[nltk_data]    |   Package omw is already up-to-date!\n",
            "[nltk_data]    | Downloading package omw-1.4 to /root/nltk_data...\n",
            "[nltk_data]    |   Package omw-1.4 is already up-to-date!\n",
            "[nltk_data]    | Downloading package opinion_lexicon to\n",
            "[nltk_data]    |     /root/nltk_data...\n",
            "[nltk_data]    |   Package opinion_lexicon is already up-to-date!\n",
            "[nltk_data]    | Downloading package panlex_swadesh to\n",
            "[nltk_data]    |     /root/nltk_data...\n",
            "[nltk_data]    |   Package panlex_swadesh is already up-to-date!\n",
            "[nltk_data]    | Downloading package paradigms to /root/nltk_data...\n",
            "[nltk_data]    |   Package paradigms is already up-to-date!\n",
            "[nltk_data]    | Downloading package pe08 to /root/nltk_data...\n",
            "[nltk_data]    |   Package pe08 is already up-to-date!\n",
            "[nltk_data]    | Downloading package perluniprops to\n",
            "[nltk_data]    |     /root/nltk_data...\n",
            "[nltk_data]    |   Package perluniprops is already up-to-date!\n",
            "[nltk_data]    | Downloading package pil to /root/nltk_data...\n",
            "[nltk_data]    |   Package pil is already up-to-date!\n",
            "[nltk_data]    | Downloading package pl196x to /root/nltk_data...\n",
            "[nltk_data]    |   Package pl196x is already up-to-date!\n",
            "[nltk_data]    | Downloading package porter_test to /root/nltk_data...\n",
            "[nltk_data]    |   Package porter_test is already up-to-date!\n",
            "[nltk_data]    | Downloading package ppattach to /root/nltk_data...\n",
            "[nltk_data]    |   Package ppattach is already up-to-date!\n",
            "[nltk_data]    | Downloading package problem_reports to\n",
            "[nltk_data]    |     /root/nltk_data...\n",
            "[nltk_data]    |   Package problem_reports is already up-to-date!\n",
            "[nltk_data]    | Downloading package product_reviews_1 to\n",
            "[nltk_data]    |     /root/nltk_data...\n",
            "[nltk_data]    |   Package product_reviews_1 is already up-to-date!\n",
            "[nltk_data]    | Downloading package product_reviews_2 to\n",
            "[nltk_data]    |     /root/nltk_data...\n",
            "[nltk_data]    |   Package product_reviews_2 is already up-to-date!\n",
            "[nltk_data]    | Downloading package propbank to /root/nltk_data...\n",
            "[nltk_data]    |   Package propbank is already up-to-date!\n",
            "[nltk_data]    | Downloading package pros_cons to /root/nltk_data...\n",
            "[nltk_data]    |   Package pros_cons is already up-to-date!\n",
            "[nltk_data]    | Downloading package ptb to /root/nltk_data...\n",
            "[nltk_data]    |   Package ptb is already up-to-date!\n",
            "[nltk_data]    | Downloading package punkt to /root/nltk_data...\n",
            "[nltk_data]    |   Package punkt is already up-to-date!\n",
            "[nltk_data]    | Downloading package qc to /root/nltk_data...\n",
            "[nltk_data]    |   Package qc is already up-to-date!\n",
            "[nltk_data]    | Downloading package reuters to /root/nltk_data...\n",
            "[nltk_data]    |   Package reuters is already up-to-date!\n",
            "[nltk_data]    | Downloading package rslp to /root/nltk_data...\n",
            "[nltk_data]    |   Package rslp is already up-to-date!\n",
            "[nltk_data]    | Downloading package rte to /root/nltk_data...\n",
            "[nltk_data]    |   Package rte is already up-to-date!\n",
            "[nltk_data]    | Downloading package sample_grammars to\n",
            "[nltk_data]    |     /root/nltk_data...\n",
            "[nltk_data]    |   Package sample_grammars is already up-to-date!\n",
            "[nltk_data]    | Downloading package semcor to /root/nltk_data...\n",
            "[nltk_data]    |   Package semcor is already up-to-date!\n",
            "[nltk_data]    | Downloading package senseval to /root/nltk_data...\n",
            "[nltk_data]    |   Package senseval is already up-to-date!\n",
            "[nltk_data]    | Downloading package sentence_polarity to\n",
            "[nltk_data]    |     /root/nltk_data...\n",
            "[nltk_data]    |   Package sentence_polarity is already up-to-date!\n",
            "[nltk_data]    | Downloading package sentiwordnet to\n",
            "[nltk_data]    |     /root/nltk_data...\n",
            "[nltk_data]    |   Package sentiwordnet is already up-to-date!\n",
            "[nltk_data]    | Downloading package shakespeare to /root/nltk_data...\n",
            "[nltk_data]    |   Package shakespeare is already up-to-date!\n",
            "[nltk_data]    | Downloading package sinica_treebank to\n",
            "[nltk_data]    |     /root/nltk_data...\n",
            "[nltk_data]    |   Package sinica_treebank is already up-to-date!\n",
            "[nltk_data]    | Downloading package smultron to /root/nltk_data...\n",
            "[nltk_data]    |   Package smultron is already up-to-date!\n",
            "[nltk_data]    | Downloading package snowball_data to\n",
            "[nltk_data]    |     /root/nltk_data...\n",
            "[nltk_data]    |   Package snowball_data is already up-to-date!\n",
            "[nltk_data]    | Downloading package spanish_grammars to\n",
            "[nltk_data]    |     /root/nltk_data...\n",
            "[nltk_data]    |   Package spanish_grammars is already up-to-date!\n",
            "[nltk_data]    | Downloading package state_union to /root/nltk_data...\n",
            "[nltk_data]    |   Package state_union is already up-to-date!\n",
            "[nltk_data]    | Downloading package stopwords to /root/nltk_data...\n",
            "[nltk_data]    |   Package stopwords is already up-to-date!\n",
            "[nltk_data]    | Downloading package subjectivity to\n",
            "[nltk_data]    |     /root/nltk_data...\n",
            "[nltk_data]    |   Package subjectivity is already up-to-date!\n",
            "[nltk_data]    | Downloading package swadesh to /root/nltk_data...\n",
            "[nltk_data]    |   Package swadesh is already up-to-date!\n",
            "[nltk_data]    | Downloading package switchboard to /root/nltk_data...\n",
            "[nltk_data]    |   Package switchboard is already up-to-date!\n",
            "[nltk_data]    | Downloading package tagsets to /root/nltk_data...\n",
            "[nltk_data]    |   Package tagsets is already up-to-date!\n",
            "[nltk_data]    | Downloading package timit to /root/nltk_data...\n",
            "[nltk_data]    |   Package timit is already up-to-date!\n",
            "[nltk_data]    | Downloading package toolbox to /root/nltk_data...\n",
            "[nltk_data]    |   Package toolbox is already up-to-date!\n",
            "[nltk_data]    | Downloading package treebank to /root/nltk_data...\n",
            "[nltk_data]    |   Package treebank is already up-to-date!\n",
            "[nltk_data]    | Downloading package twitter_samples to\n",
            "[nltk_data]    |     /root/nltk_data...\n",
            "[nltk_data]    |   Package twitter_samples is already up-to-date!\n",
            "[nltk_data]    | Downloading package udhr to /root/nltk_data...\n",
            "[nltk_data]    |   Package udhr is already up-to-date!\n",
            "[nltk_data]    | Downloading package udhr2 to /root/nltk_data...\n",
            "[nltk_data]    |   Package udhr2 is already up-to-date!\n",
            "[nltk_data]    | Downloading package unicode_samples to\n",
            "[nltk_data]    |     /root/nltk_data...\n",
            "[nltk_data]    |   Package unicode_samples is already up-to-date!\n",
            "[nltk_data]    | Downloading package universal_tagset to\n",
            "[nltk_data]    |     /root/nltk_data...\n",
            "[nltk_data]    |   Package universal_tagset is already up-to-date!\n",
            "[nltk_data]    | Downloading package universal_treebanks_v20 to\n",
            "[nltk_data]    |     /root/nltk_data...\n",
            "[nltk_data]    |   Package universal_treebanks_v20 is already up-to-\n",
            "[nltk_data]    |       date!\n",
            "[nltk_data]    | Downloading package vader_lexicon to\n",
            "[nltk_data]    |     /root/nltk_data...\n",
            "[nltk_data]    |   Package vader_lexicon is already up-to-date!\n",
            "[nltk_data]    | Downloading package verbnet to /root/nltk_data...\n",
            "[nltk_data]    |   Package verbnet is already up-to-date!\n",
            "[nltk_data]    | Downloading package verbnet3 to /root/nltk_data...\n",
            "[nltk_data]    |   Package verbnet3 is already up-to-date!\n",
            "[nltk_data]    | Downloading package webtext to /root/nltk_data...\n",
            "[nltk_data]    |   Package webtext is already up-to-date!\n",
            "[nltk_data]    | Downloading package wmt15_eval to /root/nltk_data...\n",
            "[nltk_data]    |   Package wmt15_eval is already up-to-date!\n",
            "[nltk_data]    | Downloading package word2vec_sample to\n",
            "[nltk_data]    |     /root/nltk_data...\n",
            "[nltk_data]    |   Package word2vec_sample is already up-to-date!\n",
            "[nltk_data]    | Downloading package wordnet to /root/nltk_data...\n",
            "[nltk_data]    |   Package wordnet is already up-to-date!\n",
            "[nltk_data]    | Downloading package wordnet2021 to /root/nltk_data...\n",
            "[nltk_data]    |   Package wordnet2021 is already up-to-date!\n",
            "[nltk_data]    | Downloading package wordnet2022 to /root/nltk_data...\n",
            "[nltk_data]    |   Package wordnet2022 is already up-to-date!\n",
            "[nltk_data]    | Downloading package wordnet31 to /root/nltk_data...\n",
            "[nltk_data]    |   Package wordnet31 is already up-to-date!\n",
            "[nltk_data]    | Downloading package wordnet_ic to /root/nltk_data...\n",
            "[nltk_data]    |   Package wordnet_ic is already up-to-date!\n",
            "[nltk_data]    | Downloading package words to /root/nltk_data...\n",
            "[nltk_data]    |   Package words is already up-to-date!\n",
            "[nltk_data]    | Downloading package ycoe to /root/nltk_data...\n",
            "[nltk_data]    |   Package ycoe is already up-to-date!\n",
            "[nltk_data]    | \n",
            "[nltk_data]  Done downloading collection all\n"
          ]
        }
      ],
      "source": [
        "# 模型及文字轉數字函示庫\n",
        "import csv\n",
        "import numpy as np\n",
        "import pandas as pd\n",
        "import torchtext\n",
        "import tensorflow as tf\n",
        "from tensorflow.keras.preprocessing.text import Tokenizer\n",
        "from tensorflow.keras.preprocessing.sequence import pad_sequences\n",
        "from tensorflow.keras.utils import to_categorical\n",
        "\n",
        "# 文字處理與清潔函示庫\n",
        "import re\n",
        "import nltk\n",
        "from nltk.tokenize import word_tokenize\n",
        "from nltk.corpus import stopwords \n",
        "from nltk.stem import WordNetLemmatizer\n",
        "nltk.download('all')\n",
        "from collections import Counter "
      ]
    },
    {
      "cell_type": "markdown",
      "metadata": {
        "id": "SSSNqwpi2fvO"
      },
      "source": [
        "# 3. 讀train.csv"
      ]
    },
    {
      "cell_type": "code",
      "source": [
        "def read_train_data():\n",
        "    '''\n",
        "        read 'train.csv' and transform it to a list of dict\n",
        "    \n",
        "        output:\n",
        "            train_data(list): contains a dict {'headline': str, 'short_description': str, 'category': str}\n",
        "            classes(list): 30 claases name\n",
        "    '''\n",
        "    with open('train.csv', newline='') as csvfile:\n",
        "        rows = csv.reader(csvfile)\n",
        "        rows = list(rows)[1:]\n",
        "\n",
        "    # save to train_data & set up classes mapping table\n",
        "    train_data = []\n",
        "    classes = []\n",
        "\n",
        "    for row in rows:\n",
        "        train_data.append({\n",
        "            'id':                     row[0],\n",
        "            'headline':               re.sub(r'[^\\w\\s]', '', row[1]).lower(),\n",
        "            # 'short_description':      re.sub(r'[^\\w\\s]', '', row[2]).lower(),\n",
        "            'category':               row[3]\n",
        "        })\n",
        "        if row[3] not in classes:\n",
        "            classes.append(row[3])\n",
        "\n",
        "    print(\"size of  data: {}\\nsize of classes map: {}\\n\".format(len(train_data), len(classes)))\n",
        "    return train_data, classes"
      ],
      "metadata": {
        "id": "UcKsrzFhtUA2"
      },
      "execution_count": 3,
      "outputs": []
    },
    {
      "cell_type": "markdown",
      "source": [
        "# 4. 做pre-processing"
      ],
      "metadata": {
        "id": "hbQj3jOdndGf"
      }
    },
    {
      "cell_type": "code",
      "source": [
        "#tokenizer\n",
        "def en_tokenizer_yeild(data):\n",
        "    '''\n",
        "        for building torchtext.vocab.Vocab (English)\n",
        "        it use get_tokenizer() function to tokenizer English sentences\n",
        "        then yield tokens to build_vocab_from_iterator() function to generate Vocab\n",
        "\n",
        "        Args:\n",
        "            data (list[dict{'headline': str, 'short_description': str, 'category': str}]): it's from read_train_data()\n",
        "    '''\n",
        "    tokenizer = torchtext.data.utils.get_tokenizer(\"basic_english\")\n",
        "    for one_data in data:\n",
        "        yield tokenizer(one_data['headline'])\n",
        "        #yield tokenizer(one_data['short_description'])\n",
        "        \n",
        "def get_vocab(data):\n",
        "    '''\n",
        "        get Vocab object from torchtext\n",
        "        \n",
        "        Args:\n",
        "            data(list of dict): from read_train_data()\n",
        "        Outputs:\n",
        "            vocab(Vocab object)\n",
        "    '''\n",
        "    vocab = torchtext.vocab.build_vocab_from_iterator(\n",
        "        en_tokenizer_yeild(data),\n",
        "        min_freq=5,\n",
        "        special_first=True,\n",
        "        specials=[\"<UNK>\", \"<END>\", \"<SOS>\", \"<PAD>\"]\n",
        "    )\n",
        "    vocab.set_default_index( vocab[\"<UNK>\"] )\n",
        "    return vocab\n",
        "\n",
        "def get_class_dict(classes):\n",
        "    '''\n",
        "        transform a list \"classes\" to 2 dict, (index to name) & (name to index)\n",
        "        \n",
        "        Args:\n",
        "            classes (list): list of classes from read_train_data()\n",
        "        outputs:\n",
        "            CLASSES_INT_TO_STR(dict): index to name\n",
        "            CLASSES_STR_TO_INT(dict): name to index\n",
        "    '''\n",
        "    classes_int_to_str = {}\n",
        "    classes_str_to_int = {}\n",
        "    for index, name in enumerate(classes):\n",
        "        classes_int_to_str[index] = name\n",
        "        classes_str_to_int[name]  = index\n",
        "    return classes_int_to_str, classes_str_to_int"
      ],
      "metadata": {
        "id": "l1KjfcVnjQKI"
      },
      "execution_count": 4,
      "outputs": []
    },
    {
      "cell_type": "code",
      "source": [
        "def data_preprocess(train_data, vocab, MAX_HEADLINE_LEN=30, MAX_SHORTDES_LEN=100):\n",
        "    '''\n",
        "        Args:\n",
        "            train_data(list of dict): get from read_train_data()\n",
        "            vocab(Vocab): get from get_vocab()\n",
        "            MAX_HEADLINE_LEN(int, default=30)\n",
        "            MAX_SHORTDES_LEN(int, default=100)\n",
        "        Outputs:\n",
        "            train_data(list of dict): ['headline'] and ['short_description'] all transform to tokens (including padding)\n",
        "            \n",
        "    '''\n",
        "    for data in train_data:\n",
        "        headline_tokens = vocab.lookup_indices(data['headline'].split())[:(MAX_HEADLINE_LEN-2)]\n",
        "        # shortdes_tokens = vocab.lookup_indices(data['short_description'].split())[:(MAX_SHORTDES_LEN-2)]\n",
        "        headline_tokens = [vocab['<SOS>']] + headline_tokens + [vocab['<END>']]\n",
        "        # shortdes_tokens = [vocab['<SOS>']] + shortdes_tokens + [vocab['<END>']]\n",
        "        headline_tokens = headline_tokens + [vocab['PAD']]*(MAX_HEADLINE_LEN-len(headline_tokens))\n",
        "        # shortdes_tokens = shortdes_tokens + [vocab['PAD']]*(MAX_SHORTDES_LEN-len(shortdes_tokens))\n",
        "        data['headline'] = headline_tokens\n",
        "        # data['short_description'] = shortdes_tokens\n",
        "    return train_data\n"
      ],
      "metadata": {
        "id": "_YSIm-Noibps"
      },
      "execution_count": 5,
      "outputs": []
    },
    {
      "cell_type": "code",
      "execution_count": 6,
      "metadata": {
        "colab": {
          "base_uri": "https://localhost:8080/"
        },
        "id": "6qp69K2DG84p",
        "outputId": "15573353-1426-4983-b46e-a07dfc1f49a1"
      },
      "outputs": [
        {
          "output_type": "stream",
          "name": "stdout",
          "text": [
            "size of  data: 30000\n",
            "size of classes map: 30\n",
            "\n"
          ]
        }
      ],
      "source": [
        "# Run here\n",
        "texts, classes = read_train_data()\n",
        "CLASSES_INT_TO_STR, CLASSES_STR_TO_INT = get_class_dict(classes)\n",
        "vocab = get_vocab(texts)\n",
        "train_data = data_preprocess(texts, vocab, MAX_HEADLINE_LEN=30, MAX_SHORTDES_LEN=100)"
      ]
    },
    {
      "cell_type": "code",
      "source": [
        "# Check train data \n",
        "print(train_data[0])\n",
        "print(CLASSES_INT_TO_STR)\n",
        "print(CLASSES_STR_TO_INT)"
      ],
      "metadata": {
        "colab": {
          "base_uri": "https://localhost:8080/"
        },
        "id": "9be-iA3r_Nzj",
        "outputId": "ca2fa75e-931d-480c-8912-48b04f2d3c26"
      },
      "execution_count": 7,
      "outputs": [
        {
          "output_type": "stream",
          "name": "stdout",
          "text": [
            "{'id': '0', 'headline': [2, 4012, 198, 6, 1963, 8, 0, 0, 5, 1683, 6, 2795, 4332, 1, 0, 0, 0, 0, 0, 0, 0, 0, 0, 0, 0, 0, 0, 0, 0, 0], 'category': 'BLACK VOICES'}\n",
            "{0: 'BLACK VOICES', 1: 'BUSINESS', 2: 'COMEDY', 3: 'CRIME', 4: 'DIVORCE', 5: 'ENTERTAINMENT', 6: 'FOOD & DRINK', 7: 'GREEN', 8: 'HEALTHY LIVING', 9: 'HOME & LIVING', 10: 'IMPACT', 11: 'MEDIA', 12: 'PARENTING', 13: 'PARENTS', 14: 'POLITICS', 15: 'QUEER VOICES', 16: 'RELIGION', 17: 'SCIENCE', 18: 'SPORTS', 19: 'STYLE', 20: 'STYLE & BEAUTY', 21: 'TASTE', 22: 'TECH', 23: 'THE WORLDPOST', 24: 'TRAVEL', 25: 'WEDDINGS', 26: 'WEIRD NEWS', 27: 'WELLNESS', 28: 'WOMEN', 29: 'WORLD NEWS'}\n",
            "{'BLACK VOICES': 0, 'BUSINESS': 1, 'COMEDY': 2, 'CRIME': 3, 'DIVORCE': 4, 'ENTERTAINMENT': 5, 'FOOD & DRINK': 6, 'GREEN': 7, 'HEALTHY LIVING': 8, 'HOME & LIVING': 9, 'IMPACT': 10, 'MEDIA': 11, 'PARENTING': 12, 'PARENTS': 13, 'POLITICS': 14, 'QUEER VOICES': 15, 'RELIGION': 16, 'SCIENCE': 17, 'SPORTS': 18, 'STYLE': 19, 'STYLE & BEAUTY': 20, 'TASTE': 21, 'TECH': 22, 'THE WORLDPOST': 23, 'TRAVEL': 24, 'WEDDINGS': 25, 'WEIRD NEWS': 26, 'WELLNESS': 27, 'WOMEN': 28, 'WORLD NEWS': 29}\n"
          ]
        }
      ]
    },
    {
      "cell_type": "code",
      "source": [
        "# categories table\n",
        "print(classes)\n",
        "int_classes = [CLASSES_STR_TO_INT[label] for label in classes]\n",
        "print(int_classes)\n"
      ],
      "metadata": {
        "colab": {
          "base_uri": "https://localhost:8080/"
        },
        "id": "D5JVRbYwD0c9",
        "outputId": "eba988a3-3172-458f-b1bf-3808404c5b4b"
      },
      "execution_count": 8,
      "outputs": [
        {
          "output_type": "stream",
          "name": "stdout",
          "text": [
            "['BLACK VOICES', 'BUSINESS', 'COMEDY', 'CRIME', 'DIVORCE', 'ENTERTAINMENT', 'FOOD & DRINK', 'GREEN', 'HEALTHY LIVING', 'HOME & LIVING', 'IMPACT', 'MEDIA', 'PARENTING', 'PARENTS', 'POLITICS', 'QUEER VOICES', 'RELIGION', 'SCIENCE', 'SPORTS', 'STYLE', 'STYLE & BEAUTY', 'TASTE', 'TECH', 'THE WORLDPOST', 'TRAVEL', 'WEDDINGS', 'WEIRD NEWS', 'WELLNESS', 'WOMEN', 'WORLD NEWS']\n",
            "[0, 1, 2, 3, 4, 5, 6, 7, 8, 9, 10, 11, 12, 13, 14, 15, 16, 17, 18, 19, 20, 21, 22, 23, 24, 25, 26, 27, 28, 29]\n"
          ]
        }
      ]
    },
    {
      "cell_type": "code",
      "source": [
        "# 設定train_texts\n",
        "train_texts = [i[\"headline\"] for i in train_data]\n",
        "train_texts = np.array(train_texts)\n",
        "\n",
        "# 設定label\n",
        "train_labels = [CLASSES_STR_TO_INT[i['category']] for i in train_data]\n",
        "train_labels = np.array(train_labels).reshape(-1, 1)\n",
        "train_labels = to_categorical(train_labels, num_classes=30)\n",
        "\n",
        "#check data type\n",
        "print(type(train_texts))\n",
        "print(type(train_labels))\n",
        "\n",
        "print(train_texts.shape)\n",
        "print(train_labels.shape)\n"
      ],
      "metadata": {
        "colab": {
          "base_uri": "https://localhost:8080/"
        },
        "id": "IHZ5dcP7gruf",
        "outputId": "73fa0dc7-650d-4d1b-df92-42417a2eb0b8"
      },
      "execution_count": 9,
      "outputs": [
        {
          "output_type": "stream",
          "name": "stdout",
          "text": [
            "<class 'numpy.ndarray'>\n",
            "<class 'numpy.ndarray'>\n",
            "(30000, 30)\n",
            "(30000, 30)\n"
          ]
        }
      ]
    },
    {
      "cell_type": "markdown",
      "metadata": {
        "id": "l6s-2J_Y7J6e"
      },
      "source": [
        "# 5. 建立model"
      ]
    },
    {
      "cell_type": "code",
      "execution_count": 10,
      "metadata": {
        "colab": {
          "base_uri": "https://localhost:8080/"
        },
        "id": "avIBXKavf-Ie",
        "outputId": "bac88835-f919-492b-ac40-6d35640ffb17"
      },
      "outputs": [
        {
          "output_type": "stream",
          "name": "stdout",
          "text": [
            "Model: \"sequential\"\n",
            "_________________________________________________________________\n",
            " Layer (type)                Output Shape              Param #   \n",
            "=================================================================\n",
            " embedding (Embedding)       (None, 30, 256)           1920000   \n",
            "                                                                 \n",
            " gru (GRU)                   (None, 30, 512)           1182720   \n",
            "                                                                 \n",
            " gru_1 (GRU)                 (None, 30, 256)           591360    \n",
            "                                                                 \n",
            " dropout (Dropout)           (None, 30, 256)           0         \n",
            "                                                                 \n",
            " global_average_pooling1d (G  (None, 256)              0         \n",
            " lobalAveragePooling1D)                                          \n",
            "                                                                 \n",
            " dropout_1 (Dropout)         (None, 256)               0         \n",
            "                                                                 \n",
            " dense (Dense)               (None, 128)               32896     \n",
            "                                                                 \n",
            " dense_1 (Dense)             (None, 30)                3870      \n",
            "                                                                 \n",
            "=================================================================\n",
            "Total params: 3,730,846\n",
            "Trainable params: 3,730,846\n",
            "Non-trainable params: 0\n",
            "_________________________________________________________________\n",
            "None\n"
          ]
        }
      ],
      "source": [
        "from tensorflow.keras.models import Sequential\n",
        "from tensorflow.keras.layers import LSTM, Dropout, Dense, Embedding, Dropout, SimpleRNN, Softmax, Conv1D, GRU\n",
        "\n",
        "model = tf.keras.Sequential([\n",
        "      tf.keras.layers.Embedding(input_dim = 7500 , output_dim=256, input_length = len(train_texts[0])),\n",
        "      \n",
        "      tf.keras.layers.GRU(units=512, activation='tanh',return_sequences=True,dropout=0.5),\n",
        "      tf.keras.layers.GRU(units=256, activation='tanh',return_sequences=True,dropout=0.5),\n",
        "      tf.keras.layers.Dropout(0.5),\n",
        "      # tf.keras.layers.LSTM(units=10, activation='tanh',return_sequences=True),\n",
        "      tf.keras.layers.GlobalAveragePooling1D(),\n",
        "      # tf.keras.layers.GRU(units=256, activation='tanh',return_sequences=True),\n",
        "      # tf.keras.layers.LSTM(units=256, activation='tanh',return_sequences=True,dropout=0.4),\n",
        "      tf.keras.layers.Dropout(0.4),\n",
        "      tf.keras.layers.Dense(128, activation='relu'),\n",
        "      tf.keras.layers.Dense(30, activation='softmax')\n",
        "])\n",
        "\n",
        "# 可以用的layer\n",
        "# GlobalAveragePooling1D(),\n",
        "# LSTM(units=60, activation='tanh')\n",
        "# Dropout(0.25)\n",
        "# SimpleRNN(units=60)\n",
        "\n",
        "#'categorical_crossentropy' 'adam'\n",
        "#loss= tf.keras.losses.SparseCategoricalCrossentropy(), optimizer=tf.keras.optimizers.Adam(1e-3)\n",
        "model.compile(loss= 'categorical_crossentropy', optimizer='adam', metrics=['accuracy'])\n",
        "\n",
        "print(model.summary())"
      ]
    },
    {
      "cell_type": "markdown",
      "metadata": {
        "id": "mp4JWkIR3yZ3"
      },
      "source": [
        "# 6. 訓練model"
      ]
    },
    {
      "cell_type": "code",
      "source": [
        "import sklearn\n",
        "from sklearn.model_selection import train_test_split\n",
        "train_texts, val_texts, train_labels, val_labels = train_test_split(train_texts, train_labels, test_size=0.1)"
      ],
      "metadata": {
        "id": "4UHGTFpNWrAA"
      },
      "execution_count": 11,
      "outputs": []
    },
    {
      "cell_type": "code",
      "execution_count": 12,
      "metadata": {
        "colab": {
          "base_uri": "https://localhost:8080/"
        },
        "id": "wwvSvJLbgDbm",
        "outputId": "f3415263-b452-4d7b-ad89-c7ba21045911"
      },
      "outputs": [
        {
          "output_type": "stream",
          "name": "stdout",
          "text": [
            "Epoch 1/100\n",
            "422/422 [==============================] - 37s 57ms/step - loss: 3.0549 - accuracy: 0.1204 - val_loss: 2.3346 - val_accuracy: 0.3163\n",
            "Epoch 2/100\n",
            "422/422 [==============================] - 8s 18ms/step - loss: 2.0939 - accuracy: 0.3781 - val_loss: 1.8780 - val_accuracy: 0.4460\n",
            "Epoch 3/100\n",
            "422/422 [==============================] - 8s 18ms/step - loss: 1.6589 - accuracy: 0.5047 - val_loss: 1.7547 - val_accuracy: 0.4880\n",
            "Epoch 4/100\n",
            "422/422 [==============================] - 6s 14ms/step - loss: 1.4182 - accuracy: 0.5705 - val_loss: 1.7484 - val_accuracy: 0.4887\n",
            "Epoch 5/100\n",
            "422/422 [==============================] - 7s 17ms/step - loss: 1.2572 - accuracy: 0.6189 - val_loss: 1.7277 - val_accuracy: 0.5103\n",
            "Epoch 6/100\n",
            "422/422 [==============================] - 7s 16ms/step - loss: 1.1177 - accuracy: 0.6594 - val_loss: 1.8312 - val_accuracy: 0.5053\n",
            "Epoch 7/100\n",
            "422/422 [==============================] - 8s 20ms/step - loss: 1.0110 - accuracy: 0.6891 - val_loss: 1.8979 - val_accuracy: 0.5057\n",
            "Epoch 8/100\n",
            "422/422 [==============================] - 7s 17ms/step - loss: 0.9271 - accuracy: 0.7107 - val_loss: 1.9847 - val_accuracy: 0.5033\n",
            "Epoch 9/100\n",
            "422/422 [==============================] - 7s 16ms/step - loss: 0.8448 - accuracy: 0.7359 - val_loss: 2.0757 - val_accuracy: 0.4913\n",
            "Epoch 10/100\n",
            "422/422 [==============================] - 7s 16ms/step - loss: 0.7759 - accuracy: 0.7573 - val_loss: 2.1879 - val_accuracy: 0.4993\n"
          ]
        }
      ],
      "source": [
        "from keras.callbacks import EarlyStopping\n",
        "callback = EarlyStopping(monitor = \"val_accuracy\",patience = 5)\n",
        "\n",
        "history = model.fit(train_texts, train_labels,\n",
        "          batch_size = 64,\n",
        "          epochs=100, \n",
        "          validation_data=(val_texts, val_labels),\n",
        "          callbacks = [callback]\n",
        "          )\n"
      ]
    },
    {
      "cell_type": "markdown",
      "metadata": {
        "id": "sjkZcfT_33kP"
      },
      "source": [
        "# 7. 畫出訓練過程"
      ]
    },
    {
      "cell_type": "code",
      "execution_count": 13,
      "metadata": {
        "colab": {
          "base_uri": "https://localhost:8080/",
          "height": 927
        },
        "id": "hI9rtRIgdRzn",
        "outputId": "eec8a1bb-556e-49c5-aeba-bc46fc2271a5"
      },
      "outputs": [
        {
          "output_type": "display_data",
          "data": {
            "text/plain": [
              "<Figure size 640x480 with 1 Axes>"
            ],
            "image/png": "[encoded data removed]"
          },
          "metadata": {}
        },
        {
          "output_type": "display_data",
          "data": {
            "text/plain": [
              "<Figure size 640x480 with 1 Axes>"
            ],
            "image/png": "[encoded data removed]"
          },
          "metadata": {}
        }
      ],
      "source": [
        "import matplotlib.pyplot as plt\n",
        "def show_train_history(train_history):\n",
        "    plt.plot(train_history.history['accuracy'])\n",
        "    plt.plot(train_history.history['val_accuracy'])\n",
        "    plt.xticks([i for i in range(0, len(train_history.history['accuracy']))])\n",
        "    plt.title('Train History')\n",
        "    plt.ylabel('accuracy')\n",
        "    plt.xlabel('epoch')\n",
        "    plt.legend(['train', 'validation'], loc='upper left')\n",
        "    plt.show()\n",
        "show_train_history(history)\n",
        "\n",
        "\n",
        "def show_train_history_loss(train_history):\n",
        "    plt.plot(train_history.history['loss'])\n",
        "    plt.plot(train_history.history['val_loss'])\n",
        "    plt.xticks([i for i in range(0, len(train_history.history['loss']))])\n",
        "    plt.title('loss History')\n",
        "    plt.ylabel('loss')\n",
        "    plt.xlabel('epoch')\n",
        "    plt.legend(['train', 'val'], loc='upper left')\n",
        "    plt.show()\n",
        "    \n",
        "show_train_history_loss(history)"
      ]
    },
    {
      "cell_type": "markdown",
      "metadata": {
        "id": "2Tllv40VgGrQ"
      },
      "source": [
        "# 8. 將test.csv透過model去預測並寫成submit.csv"
      ]
    },
    {
      "cell_type": "code",
      "source": [
        "def read_test_data():\n",
        "    '''\n",
        "        read 'test.csv' and transform it to a list of dict\n",
        "    \n",
        "        output:\n",
        "            test_data(list): contains a dict {'headline': str, 'short_description': str}\n",
        "            classes(list): 30 claases name\n",
        "    '''\n",
        "    with open('test.csv', newline='') as csvfile:\n",
        "        rows = csv.reader(csvfile)\n",
        "        rows = list(rows)[1:]\n",
        "\n",
        "    # save to train_data & set up classes mapping table\n",
        "    test_data = []\n",
        "\n",
        "    for row in rows:\n",
        "        test_data.append({\n",
        "            'id':                     row[0],\n",
        "            'headline':               re.sub(r'[^\\w\\s]', '', row[1]).lower(),\n",
        "            # 'short_description':      re.sub(r'[^\\w\\s]', '', row[2]).lower(),\n",
        "        })\n",
        "\n",
        "    print(\"size of  data: {}\\n\".format(len(test_data)))\n",
        "    return test_data\n",
        "\n"
      ],
      "metadata": {
        "id": "7T0f80D0rI9N"
      },
      "execution_count": 14,
      "outputs": []
    },
    {
      "cell_type": "code",
      "source": [
        "test_data = read_test_data()\n",
        "preprocess_test_data = data_preprocess(test_data, vocab, MAX_HEADLINE_LEN=30)\n",
        "test_data_list = [i['headline'] for i in preprocess_test_data]\n",
        "print(test_data_list[0])"
      ],
      "metadata": {
        "colab": {
          "base_uri": "https://localhost:8080/"
        },
        "id": "zlRejyISsDwf",
        "outputId": "fcc43658-a16b-4e86-f5a9-3d5be6f678ad"
      },
      "execution_count": 15,
      "outputs": [
        {
          "output_type": "stream",
          "name": "stdout",
          "text": [
            "size of  data: 7500\n",
            "\n",
            "[2, 135, 4761, 670, 937, 9, 2332, 138, 137, 0, 12, 472, 52, 3037, 1, 0, 0, 0, 0, 0, 0, 0, 0, 0, 0, 0, 0, 0, 0, 0]\n"
          ]
        }
      ]
    },
    {
      "cell_type": "code",
      "source": [
        "# 對test預測\n",
        "predictions = np.argmax(model.predict(test_data_list), axis=-1)\n",
        "predicted_categories = [CLASSES_INT_TO_STR[code] for code in predictions]"
      ],
      "metadata": {
        "colab": {
          "base_uri": "https://localhost:8080/"
        },
        "id": "MwkDmPUOHs5-",
        "outputId": "2539b53c-a03d-47f3-ff50-c57a744bdf4b"
      },
      "execution_count": 16,
      "outputs": [
        {
          "output_type": "stream",
          "name": "stdout",
          "text": [
            "235/235 [==============================] - 2s 4ms/step\n"
          ]
        }
      ]
    },
    {
      "cell_type": "code",
      "source": [
        "print(len(predictions))"
      ],
      "metadata": {
        "colab": {
          "base_uri": "https://localhost:8080/"
        },
        "id": "xFMwHo9o_dmW",
        "outputId": "5cf7b16b-b5af-46cc-a619-865d8bc6abdb"
      },
      "execution_count": 17,
      "outputs": [
        {
          "output_type": "stream",
          "name": "stdout",
          "text": [
            "7500\n"
          ]
        }
      ]
    },
    {
      "cell_type": "code",
      "execution_count": 18,
      "metadata": {
        "id": "XQYmM663gJbm",
        "colab": {
          "base_uri": "https://localhost:8080/"
        },
        "outputId": "53f23681-7d04-4743-fe8f-b4ae3a9e434f"
      },
      "outputs": [
        {
          "output_type": "stream",
          "name": "stdout",
          "text": [
            "write submit success!!\n"
          ]
        }
      ],
      "source": [
        "# 将预测结果转换为category\n",
        "# CLASSES_INT_TO_STR\n",
        "# CLASSES_STR_TO_INT\n",
        "\n",
        "# 保存结果到submit.csv\n",
        "submission = pd.DataFrame({'id': np.arange(0, len(predictions)),'category': predicted_categories})\n",
        "submission.to_csv(\"sunbmit.csv\", index=False)\n",
        "print(\"write submit success!!\")\n"
      ]
    }
  ],
  "metadata": {
    "accelerator": "GPU",
    "colab": {
      "provenance": [],
      "collapsed_sections": [
        "ma3XLqZcdRzh"
      ]
    },
    "gpuClass": "standard",
    "kernelspec": {
      "display_name": "Python 3 (ipykernel)",
      "language": "python",
      "name": "python3"
    },
    "language_info": {
      "codemirror_mode": {
        "name": "ipython",
        "version": 3
      },
      "file_extension": ".py",
      "mimetype": "text/x-python",
      "name": "python",
      "nbconvert_exporter": "python",
      "pygments_lexer": "ipython3",
      "version": "3.9.13"
    }
  },
  "nbformat": 4,
  "nbformat_minor": 0
}